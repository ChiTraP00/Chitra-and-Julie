{
 "cells": [
  {
   "cell_type": "markdown",
   "metadata": {},
   "source": [
    "# Q4.a Both Countires (UK/Eng) "
   ]
  },
  {
   "cell_type": "markdown",
   "metadata": {},
   "source": [
    "## One-Way ANOVAs of both Countries"
   ]
  },
  {
   "cell_type": "code",
   "execution_count": 61,
   "metadata": {},
   "outputs": [],
   "source": [
    "# A4.a.) R: ANOVAS, Python: Wrangling data, Tableau: difference uk/eng"
   ]
  },
  {
   "cell_type": "code",
   "execution_count": 62,
   "metadata": {},
   "outputs": [],
   "source": [
    "# Steps:\n",
    "\n",
    "# Import Packages\n",
    "# Import Dataset\n",
    "# Data Wrangle\n",
    "# Reshape Data\n",
    "# Convert file to csv to run one-way ANOVA in R\n",
    "# Results from one-way ANOVA"
   ]
  },
  {
   "cell_type": "markdown",
   "metadata": {},
   "source": [
    "# Import Packages"
   ]
  },
  {
   "cell_type": "code",
   "execution_count": 63,
   "metadata": {},
   "outputs": [],
   "source": [
    "import pandas as pd\n",
    "import numpy as np\n",
    "import matplotlib.pyplot as plt\n",
    "import seaborn as sns\n",
    "%matplotlib inline\n",
    "pd.options.display.max_rows = None\n",
    "pd.options.display.max_columns = None"
   ]
  },
  {
   "cell_type": "code",
   "execution_count": 64,
   "metadata": {},
   "outputs": [],
   "source": [
    "import pandas as pd\n",
    "pd.set_option('display.max_rows', 500)"
   ]
  },
  {
   "cell_type": "code",
   "execution_count": 85,
   "metadata": {},
   "outputs": [],
   "source": [
    "import pandas as pd\n",
    "from itertools import product"
   ]
  },
  {
   "cell_type": "markdown",
   "metadata": {},
   "source": [
    "# Import Dataset"
   ]
  },
  {
   "cell_type": "code",
   "execution_count": 65,
   "metadata": {},
   "outputs": [],
   "source": [
    "# DATA WRANGLE:\n",
    "# DS_2.0: UK_Total_updated\n",
    "# DS_2.2: Eng_Total_updated \n",
    "# DS_3.6: Reshaped_Countries\n",
    "\n",
    "#(Reshape the datasets above and prep for analysis)\n",
    "\n",
    "# ANOVAS:\n",
    "# reshaped for countries \n",
    "# reshaped_Countries.to_csv(\"Reshaped_Countries.csv\", index=False)\n",
    "\n",
    "# Data Wrangling in python, and then converting the file to csv, to Do ANVOAS is R"
   ]
  },
  {
   "cell_type": "code",
   "execution_count": 66,
   "metadata": {},
   "outputs": [],
   "source": [
    "# Eng_Total_update\n",
    "# UK_Total_update "
   ]
  },
  {
   "cell_type": "code",
   "execution_count": 67,
   "metadata": {},
   "outputs": [],
   "source": [
    "UK_Total_updated = pd.read_csv(\"/Users/julieraeboucher/Desktop/2. Datasets/2.0) 2nd Wrangled/2.0) UK_Total_updated.csv\")"
   ]
  },
  {
   "cell_type": "code",
   "execution_count": 68,
   "metadata": {},
   "outputs": [],
   "source": [
    "Eng_Total_updated  = pd.read_csv(\"/Users/julieraeboucher/Desktop/2. Datasets/2.0) 2nd Wrangled/2.2) Eng_Total_updated.csv\")"
   ]
  },
  {
   "cell_type": "code",
   "execution_count": 69,
   "metadata": {},
   "outputs": [],
   "source": [
    "# Reshaped_Countries"
   ]
  },
  {
   "cell_type": "code",
   "execution_count": null,
   "metadata": {},
   "outputs": [],
   "source": [
    "countries = pd.read_csv(\"3.6) Reshaped_Countries.csv\")"
   ]
  },
  {
   "cell_type": "markdown",
   "metadata": {},
   "source": [
    "# Data Wrangle"
   ]
  },
  {
   "cell_type": "code",
   "execution_count": 70,
   "metadata": {},
   "outputs": [],
   "source": [
    "# reshaping the data, combined the datasets uk/eng generated & treatment "
   ]
  },
  {
   "cell_type": "code",
   "execution_count": 71,
   "metadata": {},
   "outputs": [
    {
     "data": {
      "text/plain": [
       "Index(['Unnamed: 0', 'Year', 'Waste_types', 'Haz_NonHaz', 'A', 'B', 'C10_C12',\n",
       "       'C13_C15', 'C16', 'C17_C18', 'C19', 'C20_C22', 'C23', 'C24_C25',\n",
       "       'C26_C30', 'C31_C33', 'D', 'E36_E37_E39', 'F', 'G_U_X_G4677', 'EP_HH',\n",
       "       'Total_waste_gen', 'Energy_recovery', 'Incineration', 'No_backfilling',\n",
       "       'Backfilling', 'Deposit_land', 'Treated_waterbodies',\n",
       "       'Total_treatment'],\n",
       "      dtype='object')"
      ]
     },
     "execution_count": 71,
     "metadata": {},
     "output_type": "execute_result"
    }
   ],
   "source": [
    "UK_Total_updated.columns"
   ]
  },
  {
   "cell_type": "code",
   "execution_count": 72,
   "metadata": {},
   "outputs": [
    {
     "data": {
      "text/plain": [
       "Index(['Unnamed: 0', 'Year', 'Waste_types', 'Haz_NonHaz', 'A', 'B', 'C10_C12',\n",
       "       'C13_C15', 'C16', 'C17_C18', 'C19', 'C20_C22', 'C23', 'C24_C25',\n",
       "       'C26_C30', 'C31_C33', 'D', 'E36_E37_E39', 'F', 'G_U_X_G4677', 'EP_HH',\n",
       "       'Total_waste_gen', 'Energy_recovery', 'Incineration', 'No_backfilling',\n",
       "       'Backfilling', 'Deposit_land', 'Treated_waterbodies', 'd`'],\n",
       "      dtype='object')"
      ]
     },
     "execution_count": 72,
     "metadata": {},
     "output_type": "execute_result"
    }
   ],
   "source": [
    "Eng_Total_updated.columns"
   ]
  },
  {
   "cell_type": "code",
   "execution_count": 73,
   "metadata": {},
   "outputs": [],
   "source": [
    "#renaming column in Eng Data set, 'd`' to \"Total_treatment\""
   ]
  },
  {
   "cell_type": "code",
   "execution_count": 74,
   "metadata": {},
   "outputs": [],
   "source": [
    "Eng_Total_updated.rename(columns={\"d`\" : \"Total_treatment\"}, inplace=True)"
   ]
  },
  {
   "cell_type": "code",
   "execution_count": 75,
   "metadata": {},
   "outputs": [],
   "source": [
    "# dropping columns in Eng"
   ]
  },
  {
   "cell_type": "code",
   "execution_count": 76,
   "metadata": {},
   "outputs": [],
   "source": [
    "Eng_Total_updated1 = Eng_Total_updated.drop(['Unnamed: 0', 'Total_waste_gen'], axis=1)"
   ]
  },
  {
   "cell_type": "code",
   "execution_count": 77,
   "metadata": {},
   "outputs": [],
   "source": [
    "# dropping columns in UK"
   ]
  },
  {
   "cell_type": "code",
   "execution_count": 78,
   "metadata": {},
   "outputs": [],
   "source": [
    "UK_Total_updated1 = UK_Total_updated.drop(['Year','Waste_types', 'Haz_NonHaz' , 'Total_waste_gen', 'Total_treatment'], axis=1)"
   ]
  },
  {
   "cell_type": "code",
   "execution_count": 79,
   "metadata": {},
   "outputs": [],
   "source": [
    "# merging two datasets Eng & UK"
   ]
  },
  {
   "cell_type": "code",
   "execution_count": null,
   "metadata": {},
   "outputs": [],
   "source": [
    "countries = pd.concat([Eng_Total_updated1, UK_Total_updated1], axis=1)"
   ]
  },
  {
   "cell_type": "code",
   "execution_count": 29,
   "metadata": {},
   "outputs": [],
   "source": [
    "# calling new datasets to double check"
   ]
  },
  {
   "cell_type": "code",
   "execution_count": 30,
   "metadata": {},
   "outputs": [
    {
     "data": {
      "text/plain": [
       "Index(['Unnamed: 0', 'Year', 'Waste_types', 'Haz_NonHaz', 'A', 'B', 'C10_C12',\n",
       "       'C13_C15', 'C16', 'C17_C18', 'C19', 'C20_C22', 'C23', 'C24_C25',\n",
       "       'C26_C30', 'C31_C33', 'D', 'E36_E37_E39', 'F', 'G_U_X_G4677', 'EP_HH',\n",
       "       'Energy_recovery', 'Incineration', 'No_backfilling', 'Backfilling',\n",
       "       'Deposit_land', 'Treated_waterbodies', 'Unnamed: 0', 'A', 'B',\n",
       "       'C10_C12', 'C13_C15', 'C16', 'C17_C18', 'C19', 'C20_C22', 'C23',\n",
       "       'C24_C25', 'C26_C30', 'C31_C33', 'D', 'E36_E37_E39', 'F', 'G_U_X_G4677',\n",
       "       'EP_HH', 'Energy_recovery', 'Incineration', 'No_backfilling',\n",
       "       'Backfilling', 'Deposit_land', 'Treated_waterbodies'],\n",
       "      dtype='object')"
      ]
     },
     "execution_count": 30,
     "metadata": {},
     "output_type": "execute_result"
    }
   ],
   "source": [
    "countries.columns"
   ]
  },
  {
   "cell_type": "code",
   "execution_count": 31,
   "metadata": {},
   "outputs": [],
   "source": [
    "# reshaping the dataset by using melt()"
   ]
  },
  {
   "cell_type": "code",
   "execution_count": null,
   "metadata": {},
   "outputs": [],
   "source": [
    "reshaped_Countries = pd.melt(countries.drop('Haz_NonHaz', axis=1), id_vars=['Year','Waste_types'], value_vars=countries.iloc[:,3:-1].columns,\n",
    "       var_name = \"Location&Treatment_Type\", value_name=\"Weight\")"
   ]
  },
  {
   "cell_type": "markdown",
   "metadata": {},
   "source": [
    "# Convert File"
   ]
  },
  {
   "cell_type": "code",
   "execution_count": null,
   "metadata": {},
   "outputs": [],
   "source": [
    "# Wrangling and reshaping the data is easier to do python, then converting the file into a csv, \n",
    "# transfering over to R to run ANOVAS was more effectient and easier to do"
   ]
  },
  {
   "cell_type": "code",
   "execution_count": null,
   "metadata": {},
   "outputs": [],
   "source": [
    "reshaped_Countries.to_csv(\"Reshaped_Countries.csv\", index=False)"
   ]
  },
  {
   "cell_type": "markdown",
   "metadata": {},
   "source": [
    "## Ran ANOVA in RStudio "
   ]
  },
  {
   "cell_type": "markdown",
   "metadata": {},
   "source": [
    "# Results"
   ]
  },
  {
   "cell_type": "code",
   "execution_count": null,
   "metadata": {},
   "outputs": [],
   "source": [
    "# one-way ANOVA results from R file"
   ]
  },
  {
   "cell_type": "code",
   "execution_count": null,
   "metadata": {},
   "outputs": [],
   "source": []
  }
 ],
 "metadata": {
  "kernelspec": {
   "display_name": "Python 3",
   "language": "python",
   "name": "python3"
  },
  "language_info": {
   "codemirror_mode": {
    "name": "ipython",
    "version": 3
   },
   "file_extension": ".py",
   "mimetype": "text/x-python",
   "name": "python",
   "nbconvert_exporter": "python",
   "pygments_lexer": "ipython3",
   "version": "3.8.3"
  }
 },
 "nbformat": 4,
 "nbformat_minor": 4
}
