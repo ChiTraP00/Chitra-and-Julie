{
 "cells": [
  {
   "cell_type": "markdown",
   "metadata": {},
   "source": [
    "# Taking Care of Rubbish -> Final Project -> Waste Management"
   ]
  },
  {
   "cell_type": "code",
   "execution_count": 2,
   "metadata": {},
   "outputs": [],
   "source": [
    "# The name of our Final Project is called \"Taking Care of Rubbish\". \n",
    "# The datasets we have found are based off of waste produce, disposed and treatment in the UK an England.\n",
    "# We have created the following questions to help us look further into the Datasets and see if we can find anything interesting \n",
    "# pertaining waste management.\n",
    "# Idenify the issues and soltions.\n",
    "\n",
    "# QUESTIONS:\n",
    "# Q1.)   / (DS_0.0) Global view with ranking?\n",
    "# Q2.)   / (DS-0.3) What is the relationship between GDP, pop, amount of waste? (Economics: GDP/ Pop and Income correlates with waste produced)\n",
    "# Q3.)   / (DS_0.1-DS_0.1.11, DS_1.8) How does the amount of England's waste change over time?\n",
    "#        / (DS_0.2) Different waste types collected, classifications, and treatment methods \n",
    "# Q4.)   / (DS_3.0, DS_3.3) What is the difference between categories (waste type-33) and classifications(location from where the waste is collected-17)?\n",
    "# Q4.a.) / (DS_3.6) How does England differ from the UK?    \n",
    "# Q5.)   / (DS_3.1, DS_3.4) How do treatment methods differ by waste types? \n",
    "\n",
    "\n",
    "# DATASETS: (Changing orginal DS as we wrangle/cleanup. Will explain modifcations as we go.)\n",
    "# ORGINAL DATASETS\n",
    "# DS_0.0) Sensoneo: Global Waste Index 2019 \n",
    "# DS_0.1.0 - DS_0.1.11) WDI_Extract (2006, 2007, 2008, 2009, 2010, 2011, 2012, 2013, 2014, 2016, 2017, 2018) -> 12 files\n",
    "# DS_0.2) UK/England Waste\n",
    "# DS_0.3) Waste Global: Country_level\n",
    "\n",
    "# 1ST DATA WRANGLE: \n",
    "# DS_1.0) Updated_Uk_Industry (initial Data Wrangled in R)\n",
    "# DS_1.1) Updated_Uk_Management (initial Data Wrangled in R)\n",
    "# DS_1.2) UK_Total_Full\n",
    "# DS_1.3) Updated_England_Industry (initial Data Wrangled in R)\n",
    "# DS_1.4) Updated_England_Management (initial Data Wrangled in R)\n",
    "# DS_1.5) England_Total_Full\n",
    "# DS_1.6) England_Type_Full\n",
    "# DS_1.7) UK_Type_Full\n",
    "# DS_1.8) WDI_Extract_2006-2018_total_received&total_removed\n",
    "\n",
    "# 2nd DATA WRANGLE:\n",
    "# DS_2.0) UK_Total_updated \n",
    "# DS_2.1) UK_Type_updated\n",
    "# DS_2.2) Eng_Total_updated \n",
    "# DS_2.3) Eng_Type_updated \n",
    "\n",
    "# 3rd DATA WRANGLE:\n",
    "# DS_3.0) UK_Reshaped_Location\n",
    "# DS_3.1) UK_Reshaped_Treatment\n",
    "# DS_3.2) total_waste_and_treatment_by_type_UK\n",
    "# DS_3.3) Eng_Reshaped_Location\n",
    "# DS_3.4) Eng_Reshaped_Treatment\n",
    "# DS_3.5) total_waste_and_treatment_by_type_Eng\n",
    "# DS_3.6) Reshaped_Countries\n",
    "\n",
    "# ANALYSING: (Anaylize each dataset accordlying. Explain modification to datasets.) \n",
    "# A1.) Tableau: Bar Charts\n",
    "# A2.) Tableau: Categories (type) & various Classifications (where)\n",
    "# A3.) Tableau:  \n",
    "# A4.) R: ANOVAS & MANOVA, Python: DW & Chi-Square & Convert File & Machine Learning: Random Forest (Categorical outcome) \n",
    "# A5.) R: ANOVAS, Python: DW, Tableau: difference uk/eng \n",
    "# A6.) R: ANOVAS, Python: DW & Correlation\n",
    "# A7.) Python: Correlation \n",
    "\n",
    "# de???? R: ANOVAS, Python: DW, IV:country / DV:info on cat and class. ????\n",
    "\n",
    "# BASIC STATISTICS:"
   ]
  },
  {
   "cell_type": "code",
   "execution_count": 4,
   "metadata": {},
   "outputs": [],
   "source": [
    "import pandas as pd\n",
    "import numpy as np"
   ]
  },
  {
   "cell_type": "markdown",
   "metadata": {},
   "source": [
    "# Datasets:"
   ]
  },
  {
   "cell_type": "markdown",
   "metadata": {},
   "source": [
    "# 0.0: Orginal Datasets "
   ]
  },
  {
   "cell_type": "code",
   "execution_count": null,
   "metadata": {},
   "outputs": [],
   "source": [
    "# DS_0.0: Sensoneo: Global Waste Index 2019"
   ]
  },
  {
   "cell_type": "code",
   "execution_count": null,
   "metadata": {},
   "outputs": [],
   "source": [
    "global_waste_index = pd.read_csv (\"0.0) Sensoneo_Full-Dataset-Global-Waste-Index-2019-EN-DE-for-download\")"
   ]
  },
  {
   "cell_type": "code",
   "execution_count": null,
   "metadata": {},
   "outputs": [],
   "source": [
    "# DS_0.1.1 - DS_0.1.11: WDI_Extract "
   ]
  },
  {
   "cell_type": "code",
   "execution_count": null,
   "metadata": {},
   "outputs": [],
   "source": [
    "WDI_Extract = pd.read_csv (\"WDIextract\")"
   ]
  },
  {
   "cell_type": "code",
   "execution_count": null,
   "metadata": {},
   "outputs": [],
   "source": [
    "# DS_0.2: UK/England Waste"
   ]
  },
  {
   "cell_type": "code",
   "execution_count": null,
   "metadata": {},
   "outputs": [],
   "source": [
    "UK_England_Waste = pd.read_csv (\"0.2) UK_Statistics_on_Waste_dataset_Mar_2020_accessible_FINAL_v2\")"
   ]
  },
  {
   "cell_type": "code",
   "execution_count": null,
   "metadata": {},
   "outputs": [],
   "source": [
    "# DS_0.3: Waste Global: Country_level"
   ]
  },
  {
   "cell_type": "code",
   "execution_count": 6,
   "metadata": {},
   "outputs": [],
   "source": [
    "c_sw = pd.read_csv(\"/Users/julieraeboucher/Desktop/2. Datasets/0.0) Original Datasets/0.3) country_level_data_0 (3).csv\")"
   ]
  },
  {
   "cell_type": "markdown",
   "metadata": {},
   "source": [
    "# 1.0: 1st Data Wrangling: Combining the columns (waste gen and treat)"
   ]
  },
  {
   "cell_type": "code",
   "execution_count": null,
   "metadata": {},
   "outputs": [],
   "source": [
    "#DS_1.0 : Updated_Uk_Industry"
   ]
  },
  {
   "cell_type": "code",
   "execution_count": 7,
   "metadata": {},
   "outputs": [],
   "source": [
    "Updated_Uk_Industry = pd.read_csv (\"/Users/julieraeboucher/Desktop/2. Datasets/1.0) 1st wrangled /1.0) Updated_UK_Industry.1.csv\")"
   ]
  },
  {
   "cell_type": "code",
   "execution_count": null,
   "metadata": {},
   "outputs": [],
   "source": [
    "#DS_1.1 : Updated_Uk_Management"
   ]
  },
  {
   "cell_type": "code",
   "execution_count": 8,
   "metadata": {},
   "outputs": [],
   "source": [
    "Updated_Uk_Management = pd.read_csv (\"/Users/julieraeboucher/Desktop/2. Datasets/1.0) 1st wrangled /1.1) Updated_UK_Management.1.csv\")"
   ]
  },
  {
   "cell_type": "code",
   "execution_count": null,
   "metadata": {},
   "outputs": [],
   "source": [
    "#DS_1.2 : UK_Total_Full"
   ]
  },
  {
   "cell_type": "code",
   "execution_count": 9,
   "metadata": {},
   "outputs": [],
   "source": [
    "UK_Total_Full = pd.read_csv (\"/Users/julieraeboucher/Desktop/2. Datasets/1.0) 1st wrangled /1.2) UK_Total_Full.csv\")"
   ]
  },
  {
   "cell_type": "code",
   "execution_count": null,
   "metadata": {},
   "outputs": [],
   "source": [
    "#DS_1.3 : Updated_England_Industry"
   ]
  },
  {
   "cell_type": "code",
   "execution_count": 10,
   "metadata": {},
   "outputs": [],
   "source": [
    "Updated_England_Industry = pd.read_csv (\"/Users/julieraeboucher/Desktop/2. Datasets/1.0) 1st wrangled /1.3) Updated_England_Industry.1.csv\")"
   ]
  },
  {
   "cell_type": "code",
   "execution_count": null,
   "metadata": {},
   "outputs": [],
   "source": [
    "#DS_1.4 : Updated_England_Management"
   ]
  },
  {
   "cell_type": "code",
   "execution_count": 11,
   "metadata": {},
   "outputs": [],
   "source": [
    "Updated_England_Management = pd.read_csv (\"/Users/julieraeboucher/Desktop/2. Datasets/1.0) 1st wrangled /1.4) Updated_England_Management.1.csv\")"
   ]
  },
  {
   "cell_type": "code",
   "execution_count": null,
   "metadata": {},
   "outputs": [],
   "source": [
    "#DS_1.5 : England_Total_Full"
   ]
  },
  {
   "cell_type": "code",
   "execution_count": 12,
   "metadata": {},
   "outputs": [],
   "source": [
    "England_Total_Full = pd.read_csv (\"/Users/julieraeboucher/Desktop/2. Datasets/1.0) 1st wrangled /1.5) England_Total_Full.csv\")"
   ]
  },
  {
   "cell_type": "code",
   "execution_count": null,
   "metadata": {},
   "outputs": [],
   "source": [
    "# DS_1.6: England_Type_Full -> (did not use the dataset for any analysis)"
   ]
  },
  {
   "cell_type": "code",
   "execution_count": null,
   "metadata": {},
   "outputs": [],
   "source": [
    "# DS_1.7: UK_Type_Full -> (did not use the dataset for any analysis)"
   ]
  },
  {
   "cell_type": "code",
   "execution_count": null,
   "metadata": {},
   "outputs": [],
   "source": [
    "# DS_1.8: WDI_Extract_2006-2018_total_received&total_removed -> (directly in Tableau) "
   ]
  },
  {
   "cell_type": "markdown",
   "metadata": {},
   "source": [
    "# 2.0: 2nd Data Wrangling: Dropping / Repeated / Renaming columns"
   ]
  },
  {
   "cell_type": "code",
   "execution_count": null,
   "metadata": {},
   "outputs": [],
   "source": [
    "#DS_2.0: UK_Total_updated"
   ]
  },
  {
   "cell_type": "code",
   "execution_count": 13,
   "metadata": {},
   "outputs": [],
   "source": [
    "UK_Total_updated = pd.read_csv (\"/Users/julieraeboucher/Desktop/2. Datasets/2.0) 2nd Wrangled/2.0) UK_Total_updated.csv\")"
   ]
  },
  {
   "cell_type": "code",
   "execution_count": null,
   "metadata": {},
   "outputs": [],
   "source": [
    "#DS_2.1: UK_Type_updated"
   ]
  },
  {
   "cell_type": "code",
   "execution_count": 14,
   "metadata": {},
   "outputs": [],
   "source": [
    "UK_Type_updated = pd.read_csv (\"/Users/julieraeboucher/Desktop/2. Datasets/2.0) 2nd Wrangled/2.1) UK_Type_updated.csv\")"
   ]
  },
  {
   "cell_type": "code",
   "execution_count": null,
   "metadata": {},
   "outputs": [],
   "source": [
    "#DS_2.2: Eng_Total_updated "
   ]
  },
  {
   "cell_type": "code",
   "execution_count": 15,
   "metadata": {},
   "outputs": [],
   "source": [
    "Eng_Total_updated  = pd.read_csv (\"/Users/julieraeboucher/Desktop/2. Datasets/2.0) 2nd Wrangled/2.2) Eng_Total_updated.csv\")"
   ]
  },
  {
   "cell_type": "code",
   "execution_count": null,
   "metadata": {},
   "outputs": [],
   "source": [
    "#DS_2.3: Eng_Type_updated "
   ]
  },
  {
   "cell_type": "code",
   "execution_count": 16,
   "metadata": {},
   "outputs": [],
   "source": [
    "Eng_Type_updated  = pd.read_csv (\"/Users/julieraeboucher/Desktop/2. Datasets/2.0) 2nd Wrangled/2.3) Eng_Type_updated.csv\")"
   ]
  },
  {
   "cell_type": "markdown",
   "metadata": {},
   "source": [
    "# 3.0: 3rd Data Wrangling: Reshaping (melt function)"
   ]
  },
  {
   "cell_type": "code",
   "execution_count": null,
   "metadata": {},
   "outputs": [],
   "source": [
    "#DS_3.0: UK_Reshaped_Location"
   ]
  },
  {
   "cell_type": "code",
   "execution_count": 17,
   "metadata": {},
   "outputs": [],
   "source": [
    "UK_Reshaped_Location = pd.read_csv (\"/Users/julieraeboucher/Desktop/2. Datasets/3.0) 3rd wrangled /3.0) UK_Reshaped_Location.csv\")"
   ]
  },
  {
   "cell_type": "code",
   "execution_count": null,
   "metadata": {},
   "outputs": [],
   "source": [
    "#DS_3.1: UK_Reshaped_Treatment"
   ]
  },
  {
   "cell_type": "code",
   "execution_count": 18,
   "metadata": {},
   "outputs": [],
   "source": [
    "UK_Reshaped_Treatment = pd.read_csv (\"/Users/julieraeboucher/Desktop/2. Datasets/3.0) 3rd wrangled /3.1) UK_Reshaped_Treatment.csv\")"
   ]
  },
  {
   "cell_type": "code",
   "execution_count": null,
   "metadata": {},
   "outputs": [],
   "source": [
    "#DS_3.2: total_waste_and_treatment_by_type_UK"
   ]
  },
  {
   "cell_type": "code",
   "execution_count": 20,
   "metadata": {},
   "outputs": [],
   "source": [
    "total_waste_and_treatment_by_type_UK = pd.read_csv (\"/Users/julieraeboucher/Desktop/2. Datasets/3.0) 3rd wrangled /3.2) total_waste_and_treatment_by_type_UK.csv\")"
   ]
  },
  {
   "cell_type": "code",
   "execution_count": null,
   "metadata": {},
   "outputs": [],
   "source": [
    "#DS_3.3: Eng_Reshaped_Location"
   ]
  },
  {
   "cell_type": "code",
   "execution_count": 21,
   "metadata": {},
   "outputs": [],
   "source": [
    "Eng_Reshaped_Location = pd.read_csv (\"/Users/julieraeboucher/Desktop/2. Datasets/3.0) 3rd wrangled /3.3) Eng_Reshaped_Location.csv\")"
   ]
  },
  {
   "cell_type": "code",
   "execution_count": null,
   "metadata": {},
   "outputs": [],
   "source": [
    "#DS_3.4: Eng_Reshaped_Treatment"
   ]
  },
  {
   "cell_type": "code",
   "execution_count": 22,
   "metadata": {},
   "outputs": [],
   "source": [
    "Eng_Reshaped_Treatment = pd.read_csv (\"/Users/julieraeboucher/Desktop/2. Datasets/3.0) 3rd wrangled /3.4) Eng_Reshaped_Treatment.csv\")"
   ]
  },
  {
   "cell_type": "code",
   "execution_count": null,
   "metadata": {},
   "outputs": [],
   "source": [
    "#DS_3.5: total_waste_and_treatment_by_type_Eng"
   ]
  },
  {
   "cell_type": "code",
   "execution_count": 23,
   "metadata": {},
   "outputs": [],
   "source": [
    "total_waste_and_treatment_by_type_Eng = pd.read_csv (\"/Users/julieraeboucher/Desktop/2. Datasets/3.0) 3rd wrangled /3.5) total_waste_and_treatment_by_type_Eng.csv\")"
   ]
  },
  {
   "cell_type": "code",
   "execution_count": null,
   "metadata": {},
   "outputs": [],
   "source": [
    "#DS_3.6: Reshaped_Countries"
   ]
  },
  {
   "cell_type": "code",
   "execution_count": null,
   "metadata": {},
   "outputs": [],
   "source": [
    "countries = pd.read_csv(\"3.6) Reshaped_Countries.csv\")"
   ]
  }
 ],
 "metadata": {
  "kernelspec": {
   "display_name": "Python 3",
   "language": "python",
   "name": "python3"
  },
  "language_info": {
   "codemirror_mode": {
    "name": "ipython",
    "version": 3
   },
   "file_extension": ".py",
   "mimetype": "text/x-python",
   "name": "python",
   "nbconvert_exporter": "python",
   "pygments_lexer": "ipython3",
   "version": "3.8.3"
  }
 },
 "nbformat": 4,
 "nbformat_minor": 4
}
