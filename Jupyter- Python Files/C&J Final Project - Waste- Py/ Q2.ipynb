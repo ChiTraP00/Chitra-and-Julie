{
 "cells": [
  {
   "cell_type": "markdown",
   "metadata": {},
   "source": [
    "# Q2"
   ]
  },
  {
   "cell_type": "markdown",
   "metadata": {},
   "source": [
    "### What is the relationship between GDP,  population, and amount of waste?\n",
    "\n",
    "#### Economics: GDP/ Population and Income correlates with waste produced\n",
    "\n",
    "##### (Gross domestic product (GDP) is the standard measure of the value added created through the production of goods and services in a country during a certain period. As such, it also measures the income earned from that production, or the total amount spent on final goods and services (less imports).\n",
    "#####  (We wanted to ask this question because we wanted to see if there's any correlation between house income and if it corrlates with the amount of waste. See if poorer regions have more trash or vice versa.)"
   ]
  },
  {
   "cell_type": "code",
   "execution_count": 6,
   "metadata": {},
   "outputs": [],
   "source": [
    "# A2.) Python: Correlations"
   ]
  },
  {
   "cell_type": "code",
   "execution_count": 7,
   "metadata": {},
   "outputs": [],
   "source": [
    "# Steps: \n",
    "\n",
    "# Import Packages\n",
    "# Import Dataset\n",
    "# DW: Subsetting \n",
    "# Analysis: Correlation \n",
    "# Results"
   ]
  },
  {
   "cell_type": "markdown",
   "metadata": {},
   "source": [
    "# Import Packages"
   ]
  },
  {
   "cell_type": "code",
   "execution_count": 15,
   "metadata": {},
   "outputs": [],
   "source": [
    "import pandas as pd\n",
    "import numpy as np\n",
    "import matplotlib.pyplot as plt\n",
    "import seaborn as sns\n",
    "%matplotlib inline\n",
    "pd.options.display.max_rows = None\n",
    "pd.options.display.max_columns = None"
   ]
  },
  {
   "cell_type": "markdown",
   "metadata": {},
   "source": [
    "# Import Dataset"
   ]
  },
  {
   "cell_type": "code",
   "execution_count": null,
   "metadata": {},
   "outputs": [],
   "source": [
    "# DS_0.3: Waste Global: Country_level"
   ]
  },
  {
   "cell_type": "code",
   "execution_count": 16,
   "metadata": {},
   "outputs": [],
   "source": [
    "c_sw = pd.read_csv(\"/Users/julieraeboucher/Desktop/Final Project /2. Datasets/Original Datasets/country_level_data_0 (3).csv\")"
   ]
  },
  {
   "cell_type": "markdown",
   "metadata": {},
   "source": [
    "# DW: Subsetting (specific columns) \n"
   ]
  },
  {
   "cell_type": "code",
   "execution_count": 17,
   "metadata": {},
   "outputs": [
    {
     "data": {
      "text/html": [
       "<div>\n",
       "<style scoped>\n",
       "    .dataframe tbody tr th:only-of-type {\n",
       "        vertical-align: middle;\n",
       "    }\n",
       "\n",
       "    .dataframe tbody tr th {\n",
       "        vertical-align: top;\n",
       "    }\n",
       "\n",
       "    .dataframe thead th {\n",
       "        text-align: right;\n",
       "    }\n",
       "</style>\n",
       "<table border=\"1\" class=\"dataframe\">\n",
       "  <thead>\n",
       "    <tr style=\"text-align: right;\">\n",
       "      <th></th>\n",
       "      <th>country_name</th>\n",
       "      <th>gdp</th>\n",
       "      <th>population_population_number_of_people</th>\n",
       "      <th>total_msw_total_msw_generated_tons_year</th>\n",
       "    </tr>\n",
       "  </thead>\n",
       "  <tbody>\n",
       "    <tr>\n",
       "      <th>0</th>\n",
       "      <td>Aruba</td>\n",
       "      <td>NaN</td>\n",
       "      <td>103187.0</td>\n",
       "      <td>8.813202e+04</td>\n",
       "    </tr>\n",
       "    <tr>\n",
       "      <th>1</th>\n",
       "      <td>Afghanistan</td>\n",
       "      <td>2.141361e+10</td>\n",
       "      <td>34656032.0</td>\n",
       "      <td>5.628525e+06</td>\n",
       "    </tr>\n",
       "    <tr>\n",
       "      <th>2</th>\n",
       "      <td>Angola</td>\n",
       "      <td>1.030420e+11</td>\n",
       "      <td>25096150.0</td>\n",
       "      <td>4.213644e+06</td>\n",
       "    </tr>\n",
       "    <tr>\n",
       "      <th>3</th>\n",
       "      <td>Albania</td>\n",
       "      <td>1.347108e+10</td>\n",
       "      <td>2880703.0</td>\n",
       "      <td>1.142964e+06</td>\n",
       "    </tr>\n",
       "    <tr>\n",
       "      <th>4</th>\n",
       "      <td>Andorra</td>\n",
       "      <td>3.319880e+09</td>\n",
       "      <td>82431.0</td>\n",
       "      <td>4.300000e+04</td>\n",
       "    </tr>\n",
       "  </tbody>\n",
       "</table>\n",
       "</div>"
      ],
      "text/plain": [
       "  country_name           gdp  population_population_number_of_people  \\\n",
       "0        Aruba           NaN                                103187.0   \n",
       "1  Afghanistan  2.141361e+10                              34656032.0   \n",
       "2       Angola  1.030420e+11                              25096150.0   \n",
       "3      Albania  1.347108e+10                               2880703.0   \n",
       "4      Andorra  3.319880e+09                                 82431.0   \n",
       "\n",
       "   total_msw_total_msw_generated_tons_year  \n",
       "0                             8.813202e+04  \n",
       "1                             5.628525e+06  \n",
       "2                             4.213644e+06  \n",
       "3                             1.142964e+06  \n",
       "4                             4.300000e+04  "
      ]
     },
     "execution_count": 17,
     "metadata": {},
     "output_type": "execute_result"
    }
   ],
   "source": [
    "c_sw1 = c_sw[[\"country_name\", \"gdp\", \"population_population_number_of_people\", \"total_msw_total_msw_generated_tons_year\"]]\n",
    "c_sw1.head()"
   ]
  },
  {
   "cell_type": "markdown",
   "metadata": {},
   "source": [
    "# Analysis: Correlation "
   ]
  },
  {
   "cell_type": "code",
   "execution_count": 18,
   "metadata": {},
   "outputs": [
    {
     "data": {
      "text/html": [
       "<style  type=\"text/css\" >\n",
       "    #T_d81aa390_6798_11eb_ad81_f40f24038002row0_col0 {\n",
       "            background-color:  #b40426;\n",
       "            color:  #f1f1f1;\n",
       "        }    #T_d81aa390_6798_11eb_ad81_f40f24038002row0_col1 {\n",
       "            background-color:  #3b4cc0;\n",
       "            color:  #f1f1f1;\n",
       "        }    #T_d81aa390_6798_11eb_ad81_f40f24038002row0_col2 {\n",
       "            background-color:  #f49a7b;\n",
       "            color:  #000000;\n",
       "        }    #T_d81aa390_6798_11eb_ad81_f40f24038002row1_col0 {\n",
       "            background-color:  #3b4cc0;\n",
       "            color:  #f1f1f1;\n",
       "        }    #T_d81aa390_6798_11eb_ad81_f40f24038002row1_col1 {\n",
       "            background-color:  #b40426;\n",
       "            color:  #f1f1f1;\n",
       "        }    #T_d81aa390_6798_11eb_ad81_f40f24038002row1_col2 {\n",
       "            background-color:  #f1cdba;\n",
       "            color:  #000000;\n",
       "        }    #T_d81aa390_6798_11eb_ad81_f40f24038002row2_col0 {\n",
       "            background-color:  #bad0f8;\n",
       "            color:  #000000;\n",
       "        }    #T_d81aa390_6798_11eb_ad81_f40f24038002row2_col1 {\n",
       "            background-color:  #3b4cc0;\n",
       "            color:  #f1f1f1;\n",
       "        }    #T_d81aa390_6798_11eb_ad81_f40f24038002row2_col2 {\n",
       "            background-color:  #b40426;\n",
       "            color:  #f1f1f1;\n",
       "        }</style><table id=\"T_d81aa390_6798_11eb_ad81_f40f24038002\" ><thead>    <tr>        <th class=\"blank level0\" ></th>        <th class=\"col_heading level0 col0\" >gdp</th>        <th class=\"col_heading level0 col1\" >population_population_number_of_people</th>        <th class=\"col_heading level0 col2\" >total_msw_total_msw_generated_tons_year</th>    </tr></thead><tbody>\n",
       "                <tr>\n",
       "                        <th id=\"T_d81aa390_6798_11eb_ad81_f40f24038002level0_row0\" class=\"row_heading level0 row0\" >gdp</th>\n",
       "                        <td id=\"T_d81aa390_6798_11eb_ad81_f40f24038002row0_col0\" class=\"data row0 col0\" >1.0</td>\n",
       "                        <td id=\"T_d81aa390_6798_11eb_ad81_f40f24038002row0_col1\" class=\"data row0 col1\" >0.57</td>\n",
       "                        <td id=\"T_d81aa390_6798_11eb_ad81_f40f24038002row0_col2\" class=\"data row0 col2\" >0.89</td>\n",
       "            </tr>\n",
       "            <tr>\n",
       "                        <th id=\"T_d81aa390_6798_11eb_ad81_f40f24038002level0_row1\" class=\"row_heading level0 row1\" >population_population_number_of_people</th>\n",
       "                        <td id=\"T_d81aa390_6798_11eb_ad81_f40f24038002row1_col0\" class=\"data row1 col0\" >0.57</td>\n",
       "                        <td id=\"T_d81aa390_6798_11eb_ad81_f40f24038002row1_col1\" class=\"data row1 col1\" >1.0</td>\n",
       "                        <td id=\"T_d81aa390_6798_11eb_ad81_f40f24038002row1_col2\" class=\"data row1 col2\" >0.83</td>\n",
       "            </tr>\n",
       "            <tr>\n",
       "                        <th id=\"T_d81aa390_6798_11eb_ad81_f40f24038002level0_row2\" class=\"row_heading level0 row2\" >total_msw_total_msw_generated_tons_year</th>\n",
       "                        <td id=\"T_d81aa390_6798_11eb_ad81_f40f24038002row2_col0\" class=\"data row2 col0\" >0.89</td>\n",
       "                        <td id=\"T_d81aa390_6798_11eb_ad81_f40f24038002row2_col1\" class=\"data row2 col1\" >0.83</td>\n",
       "                        <td id=\"T_d81aa390_6798_11eb_ad81_f40f24038002row2_col2\" class=\"data row2 col2\" >1.0</td>\n",
       "            </tr>\n",
       "    </tbody></table>"
      ],
      "text/plain": [
       "<pandas.io.formats.style.Styler at 0x7fbe64292ee0>"
      ]
     },
     "execution_count": 18,
     "metadata": {},
     "output_type": "execute_result"
    }
   ],
   "source": [
    "c_sw1.corr(method='pearson').style.format(\"{:.2}\").background_gradient(cmap=plt.get_cmap('coolwarm'), axis=1)"
   ]
  },
  {
   "cell_type": "markdown",
   "metadata": {},
   "source": [
    "# Results"
   ]
  },
  {
   "cell_type": "code",
   "execution_count": 5,
   "metadata": {},
   "outputs": [],
   "source": [
    "# Scale: Low to High correlation ranging between 0(-#) and 1 \n",
    "\n",
    "#- Correlation between gdp and total generated waste per year in tons is 89% -> extremely high \n",
    "\n",
    "#- Correlation between population and total generated waste per year in tons is 83% -> high\n",
    "\n",
    "#- Correlation between population and gdp is 57% -> slightly above high correlation "
   ]
  }
 ],
 "metadata": {
  "kernelspec": {
   "display_name": "Python 3",
   "language": "python",
   "name": "python3"
  },
  "language_info": {
   "codemirror_mode": {
    "name": "ipython",
    "version": 3
   },
   "file_extension": ".py",
   "mimetype": "text/x-python",
   "name": "python",
   "nbconvert_exporter": "python",
   "pygments_lexer": "ipython3",
   "version": "3.8.3"
  }
 },
 "nbformat": 4,
 "nbformat_minor": 4
}
